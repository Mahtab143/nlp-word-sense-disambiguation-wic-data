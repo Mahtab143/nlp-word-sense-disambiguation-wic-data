{
 "cells": [
  {
   "cell_type": "markdown",
   "metadata": {
  	"collapsed": false,
  	"pycharm": {
  	 "name": "#%% md\n"
  	}
   },
   "source": [
  	"<a href=\"https://colab.research.google.com/github/andrea-gasparini/nlp-word-sense-disambiguation-wic-data/blob/master/hw3/stud/notebook.ipynb\" target=\"_parent\"><img src=\"https://colab.research.google.com/assets/colab-badge.svg\" alt=\"Open In Colab\"/></a>"
   ]
  },
  {
   "cell_type": "markdown",
   "source": [
    "# Word Sense Disambiguation (WSD) of Word-in-Context (WiC) data\n",
    "\n",
    "Third homework of the Natural Language Processing course 2021 @ Sapienza University of Rome.\n",
    "\n",
    "Prof. Roberto Navigli\n",
    "\n",
    "MSc in Computer Science\n",
    "\n",
    "**Author**: Andrea Gasparini - 1813486"
   ],
   "metadata": {
    "collapsed": false,
    "pycharm": {
     "name": "#%% md\n"
    }
   }
  },
  {
   "cell_type": "code",
   "execution_count": 1,
   "outputs": [],
   "source": [
    "import os\n",
    "import random\n",
    "\n",
    "import wandb\n",
    "import torch\n",
    "import pytorch_lightning as pl\n",
    "from pytorch_lightning.loggers import WandbLogger\n",
    "from torch.utils.data import DataLoader\n",
    "from sklearn.metrics import accuracy_score\n",
    "from tqdm import tqdm\n",
    "\n",
    "from stud import constants, utils\n",
    "from stud.data import HParams, Pos, Token\n",
    "from stud.datasets import WSDDataset, GlossBERTDataset\n",
    "from stud.sense_inventories import build_senses_vocab, SenseInventory\n",
    "from stud.data_readers import read_wic_corpus, read_wsd_gold_keys, read_wsd_corpus\n",
    "from stud.pl_data_modules import WSDDataModule, GlossBERTDataModule\n",
    "from stud.transformer_embedder import TransformerEmbedder\n",
    "from stud.pl_modules import WordSenseDisambiguator, GlossBERT"
   ],
   "metadata": {
    "collapsed": false,
    "pycharm": {
     "name": "#%%\n"
    }
   }
  },
  {
   "cell_type": "code",
   "execution_count": 2,
   "outputs": [
    {
     "name": "stderr",
     "output_type": "stream",
     "text": [
      "Global seed set to 42\n"
     ]
    },
    {
     "data": {
      "text/plain": "42"
     },
     "execution_count": 2,
     "metadata": {},
     "output_type": "execute_result"
    }
   ],
   "source": [
    "pl.seed_everything(42, workers=True)"
   ],
   "metadata": {
    "collapsed": false,
    "pycharm": {
     "name": "#%%\n"
    }
   }
  },
  {
   "cell_type": "markdown",
   "source": [
    "## Preprocessing"
   ],
   "metadata": {
    "collapsed": false,
    "pycharm": {
     "name": "#%% md\n"
    }
   }
  },
  {
   "cell_type": "markdown",
   "source": [
    "### WSDisambiguator datasets"
   ],
   "metadata": {
    "collapsed": false,
    "pycharm": {
     "name": "#%% md\n"
    }
   }
  },
  {
   "cell_type": "code",
   "execution_count": 18,
   "outputs": [
    {
     "name": "stderr",
     "output_type": "stream",
     "text": [
      "100%|██████████| 120/120 [00:04<00:00, 24.29it/s]\n",
      "100%|██████████| 1802/1802 [00:19<00:00, 92.70it/s]\n"
     ]
    }
   ],
   "source": [
    "training_corpus = read_wsd_corpus(f\"{constants.TRAIN_SET_PATH.replace('../..', '..')}{constants.XML_DATA_SUFFIX.replace('../..', '..')}\",\n",
    "\t\t\t\t\t\t\t\t\tf\"{constants.TRAIN_SET_PATH.replace('../..', '..')}{constants.TXT_GOLD_KEYS_SUFFIX.replace('../..', '..')}\")\n",
    "semeval2007_corpus = read_wsd_corpus(f\"{constants.VALID_SET_PATH.replace('../..', '..')}{constants.XML_DATA_SUFFIX.replace('../..', '..')}\",\n",
    "\t\t\t\t         \t\t\t f\"{constants.VALID_SET_PATH.replace('../..', '..')}{constants.TXT_GOLD_KEYS_SUFFIX.replace('../..', '..')}\")\n",
    "evaluation_corpus = read_wsd_corpus(f\"{constants.TEST_SET_PATH.replace('../..', '..')}{constants.XML_DATA_SUFFIX.replace('../..', '..')}\",\n",
    "\t\t\t\t\t\t\t\t\tf\"{constants.TEST_SET_PATH.replace('../..', '..')}{constants.TXT_GOLD_KEYS_SUFFIX.replace('../..', '..')}\")\n",
    "\n",
    "wic_samples_dev = read_wic_corpus(constants.WIC_TEST_SET_PATH.replace('../..', '..'), constants.WIC_TEST_SET_WSD_KEYS_PATH.replace('../..', '..'))\n",
    "wic_corpus_dev = list()\n",
    "for wic_sample in wic_samples_dev:\n",
    "\twic_corpus_dev.append(wic_sample.sentence1)\n",
    "\twic_corpus_dev.append(wic_sample.sentence2)\n",
    "\n",
    "wic_samples_train = read_wic_corpus(constants.WIC_TRAIN_SET_PATH.replace('../..', '..'))\n",
    "wic_corpus_train = list()\n",
    "for wic_sample in wic_samples_train:\n",
    "\twic_corpus_train.append(wic_sample.sentence1)\n",
    "\twic_corpus_train.append(wic_sample.sentence2)\n",
    "\n",
    "sense_invent = SenseInventory(constants.GLOSSES_PATH.replace('../..', '..'), constants.LEMMA_POS_DICT_PATH.replace('../..', '..'))\n",
    "senses_vocabulary = build_senses_vocab(training_corpus + evaluation_corpus + wic_corpus_dev)\n",
    "\n",
    "embedder_model = utils.get_pretrained_model(constants.TRANSFORMER_EMBEDDER_PATH.replace('../..', '..'))\n",
    "\n",
    "train_set = WSDDataset(training_corpus, embedder_model, sense_invent, senses_vocabulary)\n",
    "torch.save(train_set, constants.PREPROCESSED_TRAIN_PATH.replace('../..', '..'))\n",
    "\n",
    "valid_set = WSDDataset(semeval2007_corpus, embedder_model, sense_invent, senses_vocabulary)\n",
    "torch.save(valid_set, constants.PREPROCESSED_VALID_PATH.replace('../..', '..'))\n",
    "\n",
    "test_set = WSDDataset(wic_corpus_dev, embedder_model, sense_invent, senses_vocabulary)\n",
    "torch.save(test_set, constants.PREPROCESSED_TEST_PATH.replace('../..', '..'))"
   ],
   "metadata": {
    "collapsed": false,
    "pycharm": {
     "name": "#%%\n"
    }
   }
  },
  {
   "cell_type": "markdown",
   "source": [
    "### GlossBERT datasets"
   ],
   "metadata": {
    "collapsed": false,
    "pycharm": {
     "name": "#%% md\n"
    }
   }
  },
  {
   "cell_type": "code",
   "execution_count": 5,
   "outputs": [
    {
     "name": "stderr",
     "output_type": "stream",
     "text": [
      "100%|██████████| 18149/18149 [00:39<00:00, 456.75it/s]\n"
     ]
    }
   ],
   "source": [
    "training_corpus = read_wsd_corpus(f\"{constants.TRAIN_SET_PATH.replace('../..', '..')}{constants.XML_DATA_SUFFIX.replace('../..', '..')}\",\n",
    "\t\t\t\t\t\t\t\t  f\"{constants.TRAIN_SET_PATH.replace('../..', '..')}{constants.TXT_GOLD_KEYS_SUFFIX.replace('../..', '..')}\")\n",
    "semeval2007_corpus = read_wsd_corpus(f\"{constants.VALID_SET_PATH.replace('../..', '..')}{constants.XML_DATA_SUFFIX.replace('../..', '..')}\",\n",
    "\t\t\t\t         \t\t\t f\"{constants.VALID_SET_PATH.replace('../..', '..')}{constants.TXT_GOLD_KEYS_SUFFIX.replace('../..', '..')}\")\n",
    "evaluation_corpus = read_wsd_corpus(f\"{constants.TEST_SET_PATH.replace('../..', '..')}{constants.XML_DATA_SUFFIX.replace('../..', '..')}\",\n",
    "\t\t\t\t\t\t\t\t\tf\"{constants.TEST_SET_PATH.replace('../..', '..')}{constants.TXT_GOLD_KEYS_SUFFIX.replace('../..', '..')}\")\n",
    "\n",
    "wic_samples_dev = read_wic_corpus(constants.WIC_TEST_SET_PATH.replace('../..', '..'), constants.WIC_TEST_SET_WSD_KEYS_PATH.replace('../..', '..'))\n",
    "wic_corpus_dev = list()\n",
    "for wic_sample in wic_samples_dev:\n",
    "\twic_corpus_dev.append(wic_sample.sentence1)\n",
    "\twic_corpus_dev.append(wic_sample.sentence2)\n",
    "\n",
    "sense_invent = SenseInventory(constants.GLOSSES_PATH.replace('../..', '..'), constants.LEMMA_POS_DICT_PATH.replace('../..', '..'))\n",
    "\n",
    "SemCor_fraction_size = 0.5\n",
    "SemCor_fraction = random.sample(training_corpus, int(len(training_corpus) * SemCor_fraction_size))\n",
    "\n",
    "train_set = GlossBERTDataset.from_tokens(SemCor_fraction, sense_invent)\n",
    "train_set.save_as_json(f\"../data/preprocessed/GlossBERT/SemCor{int(SemCor_fraction_size * 100)}.json\")\n",
    "\n",
    "valid_set = GlossBERTDataset.from_tokens(semeval2007_corpus, sense_invent)\n",
    "valid_set.save_as_json(constants.PREPROCESSED_GLOSSBERT_VALID_PATH.replace('../..', '..'), indent=4)\n",
    "\n",
    "test_set = GlossBERTDataset.from_tokens(wic_corpus_dev, sense_invent)\n",
    "test_set.save_as_json(constants.PREPROCESSED_GLOSSBERT_TEST_PATH.replace('../..', '..'), indent=4)"
   ],
   "metadata": {
    "collapsed": false,
    "pycharm": {
     "name": "#%%\n"
    }
   }
  },
  {
   "cell_type": "markdown",
   "source": [
    "## Training"
   ],
   "metadata": {
    "collapsed": false,
    "pycharm": {
     "name": "#%% md\n"
    }
   }
  },
  {
   "cell_type": "markdown",
   "source": [
    "### WSDisambiguator"
   ],
   "metadata": {
    "collapsed": false,
    "pycharm": {
     "name": "#%% md\n"
    }
   }
  },
  {
   "cell_type": "code",
   "execution_count": null,
   "outputs": [
    {
     "name": "stderr",
     "output_type": "stream",
     "text": [
      "Global seed set to 42\n",
      "[nltk_data] Downloading package wordnet to /home/andrea/nltk_data...\n",
      "[nltk_data]   Package wordnet is already up-to-date!\n"
     ]
    },
    {
     "name": "stderr",
     "output_type": "stream",
     "text": [
      "\u001B[34m\u001B[1mwandb\u001B[0m: Currently logged in as: \u001B[33mandreagasparini\u001B[0m. Use \u001B[1m`wandb login --relogin`\u001B[0m to force relogin\n"
     ]
    },
    {
     "data": {
      "text/plain": "<IPython.core.display.HTML object>",
      "text/html": "wandb version 0.12.18 is available!  To upgrade, please run:\n $ pip install wandb --upgrade"
     },
     "metadata": {},
     "output_type": "display_data"
    },
    {
     "data": {
      "text/plain": "<IPython.core.display.HTML object>",
      "text/html": "Tracking run with wandb version 0.12.17"
     },
     "metadata": {},
     "output_type": "display_data"
    },
    {
     "data": {
      "text/plain": "<IPython.core.display.HTML object>",
      "text/html": "Run data is saved locally in <code>/home/andrea/Projects/uni/magistrale/natural-language-processing/nlp2021-hw3/hw3/wandb/run-20220612_174029-1ubgvpko</code>"
     },
     "metadata": {},
     "output_type": "display_data"
    },
    {
     "data": {
      "text/plain": "<IPython.core.display.HTML object>",
      "text/html": "Syncing run <strong><a href=\"https://wandb.ai/andreagasparini/nlp_hw3/runs/1ubgvpko\" target=\"_blank\">WSDisambiguator</a></strong> to <a href=\"https://wandb.ai/andreagasparini/nlp_hw3\" target=\"_blank\">Weights & Biases</a> (<a href=\"https://wandb.me/run\" target=\"_blank\">docs</a>)<br/>"
     },
     "metadata": {},
     "output_type": "display_data"
    },
    {
     "name": "stderr",
     "output_type": "stream",
     "text": [
      "GPU available: True, used: True\n",
      "TPU available: False, using: 0 TPU cores\n",
      "IPU available: False, using: 0 IPUs\n",
      "HPU available: False, using: 0 HPUs\n",
      "`Trainer(val_check_interval=1.0)` was configured so validation will run at the end of the training epoch..\n",
      "/home/andrea/miniconda3/envs/nlp2021-hw3/lib/python3.7/site-packages/pytorch_lightning/callbacks/model_checkpoint.py:611: UserWarning: Checkpoint directory /home/andrea/Projects/uni/magistrale/natural-language-processing/nlp2021-hw3/model exists and is not empty.\n",
      "  rank_zero_warn(f\"Checkpoint directory {dirpath} exists and is not empty.\")\n",
      "LOCAL_RANK: 0 - CUDA_VISIBLE_DEVICES: [0]\n",
      "\n",
      "  | Name          | Type             | Params\n",
      "---------------------------------------------------\n",
      "0 | senses_vocab  | Vocab            | 0     \n",
      "1 | model         | Sequential       | 15.8 M\n",
      "2 | loss_function | CrossEntropyLoss | 0     \n",
      "3 | train_acc     | Accuracy         | 0     \n",
      "4 | train_f1      | F1Score          | 0     \n",
      "5 | valid_acc     | Accuracy         | 0     \n",
      "6 | valid_f1      | F1Score          | 0     \n",
      "---------------------------------------------------\n",
      "15.8 M    Trainable params\n",
      "0         Non-trainable params\n",
      "15.8 M    Total params\n",
      "63.022    Total estimated model params size (MB)\n"
     ]
    },
    {
     "data": {
      "text/plain": "Sanity Checking: 0it [00:00, ?it/s]",
      "application/vnd.jupyter.widget-view+json": {
       "version_major": 2,
       "version_minor": 0,
       "model_id": "143d8db97040498f9db26173e40366dd"
      }
     },
     "metadata": {},
     "output_type": "display_data"
    },
    {
     "name": "stderr",
     "output_type": "stream",
     "text": [
      "/home/andrea/miniconda3/envs/nlp2021-hw3/lib/python3.7/site-packages/pytorch_lightning/utilities/data.py:73: UserWarning: Trying to infer the `batch_size` from an ambiguous collection. The batch size we found is 8. To avoid any miscalculations, use `self.log(..., batch_size=batch_size)`.\n",
      "  \"Trying to infer the `batch_size` from an ambiguous collection. The batch size we\"\n"
     ]
    },
    {
     "data": {
      "text/plain": "Training: 0it [00:00, ?it/s]",
      "application/vnd.jupyter.widget-view+json": {
       "version_major": 2,
       "version_minor": 0,
       "model_id": "1c050076982240388f71aa81b9f13b66"
      }
     },
     "metadata": {},
     "output_type": "display_data"
    }
   ],
   "source": [
    "pl.seed_everything(42, workers=True)\n",
    "\n",
    "os.environ[\"TOKENIZERS_PARALLELISM\"] = \"false\"\n",
    "\n",
    "utils.nltk_downloads()\n",
    "\n",
    "sense_inventory = SenseInventory(constants.GLOSSES_PATH.replace(\"../..\", \"..\"), constants.LEMMA_POS_DICT_PATH.replace(\"../..\", \"..\"))\n",
    "\n",
    "data_module = WSDDataModule(constants.PREPROCESSED_TRAIN_PATH.replace(\"../..\", \"..\"),\n",
    "\t\t\t\t\t\t\tconstants.PREPROCESSED_VALID_PATH.replace(\"../..\", \"..\"),\n",
    "\t\t\t\t\t\t\tconstants.PREPROCESSED_TEST_PATH.replace(\"../..\", \"..\"),\n",
    "                            utils.get_pretrained_model(constants.TRANSFORMER_EMBEDDER_PATH.replace(\"../..\", \"..\")),\n",
    "\t\t\t\t\t\t\tsense_inventory,\n",
    "\t\t\t\t\t\t\ttorch.load(\"../model/vocabularies/senses_vocabulary_train.pt\"),\n",
    "\t\t\t\t\t\t\tbatch_size=16,\n",
    "\t\t\t\t\t\t\tnum_workers=4,\n",
    "\t\t\t\t\t\t\tpin_memory=True)\n",
    "\n",
    "hparams = HParams(num_classes=len(data_module.senses_vocab),\n",
    "                  input_size=constants.TRANSFORMER_EMBEDDER_DIMENSION,\n",
    "                  batch_size=data_module.batch_size)\n",
    "\n",
    "MODELS_DIR = \"../model/\"\n",
    "MODEL_NAME = \"WSDisambiguator\"\n",
    "\n",
    "early_stopping = pl.callbacks.EarlyStopping(monitor=\"valid_wsd_accuracy\",\n",
    "                                            patience=5,\n",
    "                                            verbose=True,\n",
    "                                            mode=\"max\")\n",
    "\n",
    "check_point_callback = pl.callbacks.ModelCheckpoint(monitor=\"valid_wsd_accuracy\",\n",
    "                                                    verbose=True,\n",
    "                                                    save_top_k=2,\n",
    "                                                    save_last=False,\n",
    "                                                    mode=\"max\",\n",
    "                                                    dirpath=MODELS_DIR,\n",
    "                                                    filename=MODEL_NAME + \"-{epoch}-{valid_wsd_loss:.4f}-\"\n",
    "                                                                          \"{valid_wsd_f1:.3f}-{valid_wsd_accuracy:.3f}\")\n",
    "\n",
    "wandb_logger = WandbLogger(offline=False, project=\"nlp_hw3\", name=MODEL_NAME)\n",
    "\n",
    "trainer = pl.Trainer(\n",
    "    gpus=1 if torch.cuda.is_available() else 0,\n",
    "    logger=wandb_logger,\n",
    "    val_check_interval=1.0,\n",
    "    max_epochs=100,\n",
    "    callbacks=[early_stopping, check_point_callback],\n",
    "    deterministic=True\n",
    ")\n",
    "\n",
    "model = WordSenseDisambiguator(hparams.as_dict(), data_module.senses_vocab, data_module.senses_vocab[constants.UNK_TOKEN])\n",
    "\n",
    "trainer.fit(model, datamodule=data_module)\n",
    "\n",
    "wandb.finish()"
   ],
   "metadata": {
    "collapsed": false,
    "pycharm": {
     "name": "#%%\n"
    }
   }
  },
  {
   "cell_type": "markdown",
   "source": [
    "### GlossBERT"
   ],
   "metadata": {
    "collapsed": false,
    "pycharm": {
     "name": "#%% md\n"
    }
   }
  },
  {
   "cell_type": "code",
   "execution_count": 3,
   "outputs": [
    {
     "name": "stderr",
     "output_type": "stream",
     "text": [
      "Global seed set to 42\n",
      "[nltk_data] Downloading package wordnet to /home/andrea/nltk_data...\n",
      "[nltk_data]   Package wordnet is already up-to-date!\n",
      "\u001B[34m\u001B[1mwandb\u001B[0m: Currently logged in as: \u001B[33mandreagasparini\u001B[0m. Use \u001B[1m`wandb login --relogin`\u001B[0m to force relogin\n"
     ]
    },
    {
     "data": {
      "text/plain": "<IPython.core.display.HTML object>",
      "text/html": "wandb version 0.12.18 is available!  To upgrade, please run:\n $ pip install wandb --upgrade"
     },
     "metadata": {},
     "output_type": "display_data"
    },
    {
     "data": {
      "text/plain": "<IPython.core.display.HTML object>",
      "text/html": "Tracking run with wandb version 0.12.17"
     },
     "metadata": {},
     "output_type": "display_data"
    },
    {
     "data": {
      "text/plain": "<IPython.core.display.HTML object>",
      "text/html": "Run data is saved locally in <code>/home/andrea/Projects/uni/magistrale/natural-language-processing/nlp2021-hw3/hw3/wandb/run-20220615_002822-2oofd11s</code>"
     },
     "metadata": {},
     "output_type": "display_data"
    },
    {
     "data": {
      "text/plain": "<IPython.core.display.HTML object>",
      "text/html": "Syncing run <strong><a href=\"https://wandb.ai/andreagasparini/nlp_hw3/runs/2oofd11s\" target=\"_blank\">GlossDistilBERT</a></strong> to <a href=\"https://wandb.ai/andreagasparini/nlp_hw3\" target=\"_blank\">Weights & Biases</a> (<a href=\"https://wandb.me/run\" target=\"_blank\">docs</a>)<br/>"
     },
     "metadata": {},
     "output_type": "display_data"
    },
    {
     "name": "stderr",
     "output_type": "stream",
     "text": [
      "GPU available: True, used: True\n",
      "TPU available: False, using: 0 TPU cores\n",
      "IPU available: False, using: 0 IPUs\n",
      "HPU available: False, using: 0 HPUs\n",
      "`Trainer(val_check_interval=1.0)` was configured so validation will run at the end of the training epoch..\n",
      "Some weights of the model checkpoint at distilbert-base-cased were not used when initializing DistilBertModel: ['vocab_projector.weight', 'vocab_transform.weight', 'vocab_projector.bias', 'vocab_transform.bias', 'vocab_layer_norm.weight', 'vocab_layer_norm.bias']\n",
      "- This IS expected if you are initializing DistilBertModel from the checkpoint of a model trained on another task or with another architecture (e.g. initializing a BertForSequenceClassification model from a BertForPreTraining model).\n",
      "- This IS NOT expected if you are initializing DistilBertModel from the checkpoint of a model that you expect to be exactly identical (initializing a BertForSequenceClassification model from a BertForSequenceClassification model).\n",
      "/home/andrea/miniconda3/envs/nlp2021-hw3/lib/python3.7/site-packages/pytorch_lightning/callbacks/model_checkpoint.py:611: UserWarning: Checkpoint directory /home/andrea/Projects/uni/magistrale/natural-language-processing/nlp2021-hw3/model exists and is not empty.\n",
      "  rank_zero_warn(f\"Checkpoint directory {dirpath} exists and is not empty.\")\n",
      "LOCAL_RANK: 0 - CUDA_VISIBLE_DEVICES: [0]\n",
      "\n",
      "  | Name                | Type                | Params\n",
      "------------------------------------------------------------\n",
      "0 | bert                | TransformerEmbedder | 65.2 M\n",
      "1 | classification_head | Linear              | 769   \n",
      "2 | loss_function       | BCELoss             | 0     \n",
      "3 | train_acc           | Accuracy            | 0     \n",
      "4 | train_f1            | F1Score             | 0     \n",
      "5 | valid_acc           | Accuracy            | 0     \n",
      "6 | valid_f1            | F1Score             | 0     \n",
      "------------------------------------------------------------\n",
      "65.2 M    Trainable params\n",
      "0         Non-trainable params\n",
      "65.2 M    Total params\n",
      "260.767   Total estimated model params size (MB)\n"
     ]
    },
    {
     "data": {
      "text/plain": "Sanity Checking: 0it [00:00, ?it/s]",
      "application/vnd.jupyter.widget-view+json": {
       "version_major": 2,
       "version_minor": 0,
       "model_id": "5314ffb7ce584bef96e2f3b1a9714261"
      }
     },
     "metadata": {},
     "output_type": "display_data"
    },
    {
     "name": "stderr",
     "output_type": "stream",
     "text": [
      "/home/andrea/miniconda3/envs/nlp2021-hw3/lib/python3.7/site-packages/pytorch_lightning/trainer/connectors/data_connector.py:245: PossibleUserWarning: The dataloader, val_dataloader 0, does not have many workers which may be a bottleneck. Consider increasing the value of the `num_workers` argument` (try 4 which is the number of cpus on this machine) in the `DataLoader` init to improve performance.\n",
      "  category=PossibleUserWarning,\n",
      "/home/andrea/miniconda3/envs/nlp2021-hw3/lib/python3.7/site-packages/pytorch_lightning/utilities/data.py:73: UserWarning: Trying to infer the `batch_size` from an ambiguous collection. The batch size we found is 2. To avoid any miscalculations, use `self.log(..., batch_size=batch_size)`.\n",
      "  \"Trying to infer the `batch_size` from an ambiguous collection. The batch size we\"\n",
      "/home/andrea/miniconda3/envs/nlp2021-hw3/lib/python3.7/site-packages/pytorch_lightning/trainer/connectors/data_connector.py:245: PossibleUserWarning: The dataloader, train_dataloader, does not have many workers which may be a bottleneck. Consider increasing the value of the `num_workers` argument` (try 4 which is the number of cpus on this machine) in the `DataLoader` init to improve performance.\n",
      "  category=PossibleUserWarning,\n"
     ]
    },
    {
     "data": {
      "text/plain": "Training: 0it [00:00, ?it/s]",
      "application/vnd.jupyter.widget-view+json": {
       "version_major": 2,
       "version_minor": 0,
       "model_id": "aa9730d8a83a420b84103b7e29d2fef0"
      }
     },
     "metadata": {},
     "output_type": "display_data"
    }
   ],
   "source": [
    "pl.seed_everything(42, workers=True)\n",
    "\n",
    "os.environ[\"TOKENIZERS_PARALLELISM\"] = \"false\"\n",
    "\n",
    "utils.nltk_downloads()\n",
    "\n",
    "sense_inventory = SenseInventory(constants.GLOSSES_PATH.replace('../..', '..'), constants.LEMMA_POS_DICT_PATH.replace('../..', '..'))\n",
    "\n",
    "data_module = GlossBERTDataModule(constants.PREPROCESSED_GLOSSBERT_TRAIN_PATH.replace(\"../..\", \"..\"),\n",
    "\t\t\t\t\t\t\t      constants.PREPROCESSED_GLOSSBERT_VALID_PATH.replace(\"../..\", \"..\"),\n",
    "\t\t\t\t\t\t\t      constants.PREPROCESSED_GLOSSBERT_TEST_PATH.replace(\"../..\", \"..\"),\n",
    "\t\t\t\t\t\t\t      batch_size=8,\n",
    "\t\t\t\t\t\t\t      num_workers=4,\n",
    "\t\t\t\t\t\t\t      pin_memory=True)\n",
    "\n",
    "hparams = HParams(num_classes=1, learning_rate=2e-5, batch_size=data_module.batch_size, input_size=None)\n",
    "\n",
    "MODELS_DIR = \"../model/\"\n",
    "MODEL_NAME = \"GlossBERT\"\n",
    "\n",
    "early_stopping = pl.callbacks.EarlyStopping(monitor=\"valid_wsd_accuracy\",\n",
    "                                            patience=5,\n",
    "                                            verbose=True,\n",
    "                                            mode=\"max\")\n",
    "\n",
    "check_point_callback = pl.callbacks.ModelCheckpoint(monitor=\"valid_wsd_accuracy\",\n",
    "                                                    verbose=True,\n",
    "                                                    save_top_k=4,\n",
    "                                                    save_last=False,\n",
    "                                                    mode=\"max\",\n",
    "                                                    dirpath=MODELS_DIR,\n",
    "                                                    filename=MODEL_NAME + \"-{epoch}-{valid_wsd_loss:.4f}-\"\n",
    "                                                                          \"{valid_wsd_f1:.3f}-{valid_wsd_accuracy:.3f}\")\n",
    "\n",
    "wandb_logger = WandbLogger(offline=False, project=\"nlp_hw3\", name=MODEL_NAME)\n",
    "\n",
    "trainer = pl.Trainer(\n",
    "    gpus=1 if torch.cuda.is_available() else 0,\n",
    "    logger=wandb_logger,\n",
    "    val_check_interval=1.0,\n",
    "    max_epochs=10,\n",
    "    callbacks=[early_stopping, check_point_callback],\n",
    "    deterministic=True\n",
    ")\n",
    "\n",
    "model = GlossBERT(hparams.as_dict(), constants.TRANSFORMER_EMBEDDER_PATH.replace('../..', '..'))\n",
    "\n",
    "trainer.fit(model, datamodule=data_module)\n",
    "\n",
    "wandb.finish()"
   ],
   "metadata": {
    "collapsed": false,
    "pycharm": {
     "name": "#%%\n"
    }
   }
  },
  {
   "cell_type": "markdown",
   "source": [
    "## Testing"
   ],
   "metadata": {
    "collapsed": false,
    "pycharm": {
     "name": "#%% md\n"
    }
   }
  },
  {
   "cell_type": "code",
   "execution_count": 3,
   "outputs": [],
   "source": [
    "mode = \"GlossBERT\" # \"WSDisambiguator\" | \"GlossBERT\""
   ],
   "metadata": {
    "collapsed": false,
    "pycharm": {
     "name": "#%%\n"
    }
   }
  },
  {
   "cell_type": "code",
   "execution_count": 72,
   "outputs": [],
   "source": [
    "bert_model_name = utils.get_pretrained_model(constants.TRANSFORMER_EMBEDDER_PATH)\n",
    "\n",
    "if mode == \"WSDisambiguator\":\n",
    "    vocab = torch.load(\"../model/vocabularies/senses_vocabulary_train.pt\")\n",
    "    wic_dataset = WSDDataset.from_preprocessed(constants.PREPROCESSED_TEST_PATH.replace('../..', '..'))\n",
    "    wic_dataset.to_device(model.device)\n",
    "else:\n",
    "    vocab = torch.load(\"../model/vocabularies/senses_vocabulary_full.pt\")\n",
    "    # wic_dataset = GlossBERTDataset.from_json(constants.PREPROCESSED_GLOSSBERT_VALID_PATH.replace('../..', '..'))\n",
    "    wic_dataset = GlossBERTDataset.from_json(constants.PREPROCESSED_GLOSSBERT_TEST_PATH.replace('../..', '..'))\n",
    "    # wic_dataset = GlossBERTDataset.from_json(\"../data/preprocessed/GlossBERT/wic_dev_no_pos.json\")\n",
    "\n",
    "vocab_itos = vocab.get_itos()"
   ],
   "metadata": {
    "collapsed": false,
    "pycharm": {
     "name": "#%%\n"
    }
   }
  },
  {
   "cell_type": "code",
   "execution_count": 73,
   "outputs": [],
   "source": [
    "if mode == \"WSDisambiguator\":\n",
    "    MODEL_PATH = \"../model/WSDisambiguator.ckpt\"\n",
    "    model = WordSenseDisambiguator.load_from_checkpoint(MODEL_PATH, senses_vocab=vocab)\n",
    "else:\n",
    "    MODEL_PATH = \"../model/GlossBERT.ckpt\"\n",
    "    model = GlossBERT.load_from_checkpoint(MODEL_PATH, bert_model_name_or_path=\"../model/bert-base-cased\")"
   ],
   "metadata": {
    "collapsed": false,
    "pycharm": {
     "name": "#%%\n"
    }
   }
  },
  {
   "cell_type": "code",
   "execution_count": 74,
   "metadata": {
    "collapsed": false,
    "pycharm": {
     "name": "#%%\n"
    }
   },
   "outputs": [
    {
     "name": "stderr",
     "output_type": "stream",
     "text": [
      "\n",
      "Evaluating: 100%|█████████▉| 8617/8622 [15:53<00:01,  4.03it/s]\u001B[A"
     ]
    }
   ],
   "source": [
    "model.freeze()\n",
    "predictions = list()\n",
    "predictions_indices = list()\n",
    "\n",
    "if mode == \"WSDisambiguator\":\n",
    "    progress_bar = tqdm(total=len(wic_dataset), desc='Evaluating')\n",
    "    for batch in DataLoader(wic_dataset, batch_size=8, collate_fn=WSDDataset.collate_fn):\n",
    "        out = model(batch)\n",
    "        predicted_indices, predicted_ids = model.predict(batch, out)\n",
    "        predictions += predicted_ids\n",
    "        predictions_indices += predicted_indices\n",
    "        progress_bar.update(len(batch))\n",
    "else:\n",
    "    tokens = list()\n",
    "    probs = list()\n",
    "    sense_indices = list()\n",
    "\n",
    "    progress_bar = tqdm(total=len(wic_dataset), desc='Evaluating')\n",
    "\n",
    "    dataloader = DataLoader(wic_dataset, batch_size=8, collate_fn=GlossBERTDataset.collate_fn)\n",
    "\n",
    "    for batch in dataloader:\n",
    "        out = model(batch)\n",
    "        for i in range(len(batch[\"tokens\"])):\n",
    "            token = batch[\"tokens\"][i]\n",
    "            prob = out[\"probabilities\"][i]\n",
    "            sense_index = batch[\"sense_indices\"][i]\n",
    "            if len(tokens) > 0 and token == tokens[-1][-1]:\n",
    "                tokens[-1].append(token)\n",
    "                probs[-1] = torch.cat((probs[-1], torch.tensor([prob])))\n",
    "                sense_indices[-1] = torch.cat((sense_indices[-1], torch.tensor([sense_index])))\n",
    "            else:\n",
    "                tokens.append([token])\n",
    "                probs.append(torch.tensor([prob]))\n",
    "                sense_indices.append(torch.tensor([sense_index]))\n",
    "\n",
    "            progress_bar.update(1)\n",
    "\n",
    "    for i in range(len(probs)):\n",
    "        sample_prediction_index = torch.argmax(probs[i])\n",
    "        predictions_indices.append(sense_indices[i][sample_prediction_index])\n",
    "        predictions.append(vocab_itos[predictions_indices[i]])"
   ]
  },
  {
   "cell_type": "code",
   "execution_count": 75,
   "outputs": [
    {
     "data": {
      "text/plain": "['superior%1:18:02::',\n 'superior%1:18:02::',\n 'superior%1:18:02::',\n 'superior%1:18:01::',\n 'acquaintance%1:09:00::',\n 'acquaintance%1:09:00::',\n 'acquaintance%1:09:00::',\n 'acquaintance%1:18:00::',\n 'baggage%1:06:00::',\n 'baggage%1:06:00::']"
     },
     "execution_count": 75,
     "metadata": {},
     "output_type": "execute_result"
    }
   ],
   "source": [
    "predictions_indices = torch.stack(predictions_indices)\n",
    "predictions[:10]"
   ],
   "metadata": {
    "collapsed": false,
    "pycharm": {
     "name": "#%%\n"
    }
   }
  },
  {
   "cell_type": "code",
   "execution_count": 76,
   "metadata": {
    "collapsed": false,
    "pycharm": {
     "name": "#%%\n"
    }
   },
   "outputs": [
    {
     "data": {
      "text/plain": "['superior%1:18:01::',\n 'superior%1:18:02::',\n 'superior%1:18:01::',\n 'superior%1:18:01::',\n 'acquaintance%1:09:00::',\n 'acquaintance%1:18:00::',\n 'acquaintance%1:09:00::',\n 'acquaintance%1:18:00::',\n 'baggage%1:06:00::',\n 'baggage%1:06:00::']"
     },
     "execution_count": 76,
     "metadata": {},
     "output_type": "execute_result"
    }
   ],
   "source": [
    "if mode == \"WSDisambiguator\":\n",
    "    gold = [vocab_itos[x[\"sense_index\"]] for x in wic_dataset]\n",
    "    gold_indices = torch.tensor([x[\"sense_index\"] for x in wic_dataset])\n",
    "else:\n",
    "    # wsd_gold_keys_path = constants.VALID_SET_PATH.replace(\"../..\", \"..\") + constants.TXT_GOLD_KEYS_SUFFIX\n",
    "    wsd_gold_keys_path = constants.WIC_TEST_SET_WSD_KEYS_PATH.replace(\"../..\", \"..\")\n",
    "    gold = list(read_wsd_gold_keys(wsd_gold_keys_path).values())\n",
    "    gold_indices = torch.tensor([vocab[x] for x in gold])\n",
    "gold[:10]"
   ]
  },
  {
   "cell_type": "code",
   "execution_count": 77,
   "metadata": {
    "collapsed": false,
    "pycharm": {
     "name": "#%%\n"
    }
   },
   "outputs": [
    {
     "data": {
      "text/plain": "'0.6010'"
     },
     "execution_count": 77,
     "metadata": {},
     "output_type": "execute_result"
    }
   ],
   "source": [
    "wsd_acc = accuracy_score(predictions, gold)\n",
    "f\"{wsd_acc:.4f}\""
   ]
  },
  {
   "cell_type": "code",
   "execution_count": 78,
   "metadata": {
    "collapsed": false,
    "pycharm": {
     "name": "#%%\n"
    }
   },
   "outputs": [],
   "source": [
    "wic_samples = read_wic_corpus(constants.WIC_TEST_SET_PATH.replace('../..', '..'), constants.WIC_TEST_SET_WSD_KEYS_PATH.replace('../..', '..'))\n",
    "gold_wic = [x.sense1.sense_id == x.sense2.sense_id for x in wic_samples]\n",
    "\n",
    "predictions_wic = [predictions[i] == predictions[i+1] for i in range(0, len(predictions), 2)]"
   ]
  },
  {
   "cell_type": "code",
   "execution_count": 79,
   "outputs": [
    {
     "data": {
      "text/plain": "'0.6804'"
     },
     "execution_count": 79,
     "metadata": {},
     "output_type": "execute_result"
    }
   ],
   "source": [
    "wic_acc = accuracy_score(predictions_wic, gold_wic)\n",
    "f\"{wic_acc:.4f}\""
   ],
   "metadata": {
    "collapsed": false,
    "pycharm": {
     "name": "#%%\n"
    }
   }
  },
  {
   "cell_type": "code",
   "execution_count": 177,
   "outputs": [
    {
     "data": {
      "text/plain": "<Figure size 432x288 with 2 Axes>",
      "image/png": "[encoded data removed]"
     },
     "metadata": {
      "needs_background": "light"
     },
     "output_type": "display_data"
    }
   ],
   "source": [
    "_, _ = utils.plot_confusion_matrix(gold_wic, predictions_wic, normalize=True)"
   ],
   "metadata": {
    "collapsed": false,
    "pycharm": {
     "name": "#%%\n"
    }
   }
  }
 ],
 "metadata": {
  "interpreter": {
   "hash": "241c968aa5b2df334ebb21c90bd3ce900ec0c34e5bfa8ee6721f4d3c6b7b8eed"
  },
  "kernelspec": {
   "display_name": "Python 3.7.12 ('nlp2021-hw3')",
   "language": "python",
   "name": "python3"
  },
  "language_info": {
   "codemirror_mode": {
    "name": "ipython",
    "version": 3
   },
   "file_extension": ".py",
   "mimetype": "text/x-python",
   "name": "python",
   "nbconvert_exporter": "python",
   "pygments_lexer": "ipython3",
   "version": "3.7.12"
  }
 },
 "nbformat": 4,
 "nbformat_minor": 0
}
